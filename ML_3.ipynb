{
  "nbformat": 4,
  "nbformat_minor": 0,
  "metadata": {
    "colab": {
      "name": "ML_3.ipynb",
      "provenance": [],
      "collapsed_sections": [],
      "include_colab_link": true
    },
    "kernelspec": {
      "name": "python3",
      "display_name": "Python 3"
    },
    "language_info": {
      "name": "python"
    }
  },
  "cells": [
    {
      "cell_type": "markdown",
      "metadata": {
        "id": "view-in-github",
        "colab_type": "text"
      },
      "source": [
        "<a href=\"https://colab.research.google.com/github/skiesluv/SML/blob/main/ML_3.ipynb\" target=\"_parent\"><img src=\"https://colab.research.google.com/assets/colab-badge.svg\" alt=\"Open In Colab\"/></a>"
      ]
    },
    {
      "cell_type": "code",
      "metadata": {
        "id": "tnSiRMSRYjkF"
      },
      "source": [
        "import pandas as pd\n",
        "import numpy as np\n",
        "import matplotlib.pyplot as plt\n",
        "import seaborn as sns\n",
        "import matplotlib\n",
        "%matplotlib inline"
      ],
      "execution_count": 1,
      "outputs": []
    },
    {
      "cell_type": "code",
      "metadata": {
        "colab": {
          "base_uri": "https://localhost:8080/"
        },
        "id": "rWVGUQoAaSEm",
        "outputId": "ba5d0010-f311-4b8f-e8ed-db10dbb73bf3"
      },
      "source": [
        "emp = pd.read_csv('employees.csv')\n",
        "print(emp)"
      ],
      "execution_count": 2,
      "outputs": [
        {
          "output_type": "stream",
          "name": "stdout",
          "text": [
            "    First Name  Gender  ... Senior Management                  Team\n",
            "0      Douglas    Male  ...              True             Marketing\n",
            "1       Thomas    Male  ...              True                   NaN\n",
            "2        Maria  Female  ...             False               Finance\n",
            "3        Jerry    Male  ...              True               Finance\n",
            "4        Larry    Male  ...              True       Client Services\n",
            "..         ...     ...  ...               ...                   ...\n",
            "995      Henry     NaN  ...             False          Distribution\n",
            "996    Phillip    Male  ...             False               Finance\n",
            "997    Russell    Male  ...             False               Product\n",
            "998      Larry    Male  ...             False  Business Development\n",
            "999     Albert    Male  ...              True                 Sales\n",
            "\n",
            "[1000 rows x 8 columns]\n"
          ]
        }
      ]
    },
    {
      "cell_type": "code",
      "metadata": {
        "colab": {
          "base_uri": "https://localhost:8080/"
        },
        "id": "wtser8g4JVU0",
        "outputId": "52813709-fbd6-4c74-c6b9-a8b28ae93d70"
      },
      "source": [
        "nba = pd.read_csv('nba.csv')\n",
        "print(nba)"
      ],
      "execution_count": 3,
      "outputs": [
        {
          "output_type": "stream",
          "name": "stdout",
          "text": [
            "              Name            Team  ...            College     Salary\n",
            "0    Avery Bradley  Boston Celtics  ...              Texas  7730337.0\n",
            "1      Jae Crowder  Boston Celtics  ...          Marquette  6796117.0\n",
            "2     John Holland  Boston Celtics  ...  Boston University        NaN\n",
            "3      R.J. Hunter  Boston Celtics  ...      Georgia State  1148640.0\n",
            "4    Jonas Jerebko  Boston Celtics  ...                NaN  5000000.0\n",
            "..             ...             ...  ...                ...        ...\n",
            "453   Shelvin Mack       Utah Jazz  ...             Butler  2433333.0\n",
            "454      Raul Neto       Utah Jazz  ...                NaN   900000.0\n",
            "455   Tibor Pleiss       Utah Jazz  ...                NaN  2900000.0\n",
            "456    Jeff Withey       Utah Jazz  ...             Kansas   947276.0\n",
            "457            NaN             NaN  ...                NaN        NaN\n",
            "\n",
            "[458 rows x 9 columns]\n"
          ]
        }
      ]
    },
    {
      "cell_type": "code",
      "metadata": {
        "colab": {
          "base_uri": "https://localhost:8080/"
        },
        "id": "KU0FWjOtaY00",
        "outputId": "415bc851-92fa-47ed-f097-f8851a491a1b"
      },
      "source": [
        "is_NaN = emp.isnull()\n",
        "row_has_NaN = is_NaN.any(axis=1)\n",
        "rows_with_NaN = emp[row_has_NaN]\n",
        "\n",
        "print(rows_with_NaN)"
      ],
      "execution_count": 4,
      "outputs": [
        {
          "output_type": "stream",
          "name": "stdout",
          "text": [
            "    First Name  Gender  Start Date  ... Bonus %  Senior Management             Team\n",
            "1       Thomas    Male   3/31/1996  ...   4.170               True              NaN\n",
            "7          NaN  Female   7/20/2015  ...  11.598                NaN          Finance\n",
            "10      Louise  Female   8/12/1980  ...  15.132               True              NaN\n",
            "20        Lois     NaN   4/22/1995  ...   4.934               True            Legal\n",
            "22      Joshua     NaN    3/8/2012  ...  18.816               True  Client Services\n",
            "..         ...     ...         ...  ...     ...                ...              ...\n",
            "961    Antonio     NaN   6/18/1989  ...   3.050              False            Legal\n",
            "972     Victor     NaN   7/28/2006  ...  11.159               True            Sales\n",
            "985    Stephen     NaN   7/10/1983  ...   1.909              False            Legal\n",
            "989     Justin     NaN   2/10/1991  ...   3.794              False            Legal\n",
            "995      Henry     NaN  11/23/2014  ...  16.655              False     Distribution\n",
            "\n",
            "[236 rows x 8 columns]\n"
          ]
        }
      ]
    },
    {
      "cell_type": "code",
      "metadata": {
        "id": "1Uayj1HospEK"
      },
      "source": [
        "emp = emp.dropna()\n",
        "nba = nba.dropna()"
      ],
      "execution_count": 5,
      "outputs": []
    },
    {
      "cell_type": "code",
      "metadata": {
        "colab": {
          "base_uri": "https://localhost:8080/"
        },
        "id": "oe2aJbnDasJL",
        "outputId": "89c92c6d-57ee-45ca-be8b-148bc28858a5"
      },
      "source": [
        "nba1 = nba.dropna()\n",
        "print(nba1)"
      ],
      "execution_count": 6,
      "outputs": [
        {
          "output_type": "stream",
          "name": "stdout",
          "text": [
            "              Name            Team  Number  ... Weight        College     Salary\n",
            "0    Avery Bradley  Boston Celtics     0.0  ...  180.0          Texas  7730337.0\n",
            "1      Jae Crowder  Boston Celtics    99.0  ...  235.0      Marquette  6796117.0\n",
            "3      R.J. Hunter  Boston Celtics    28.0  ...  185.0  Georgia State  1148640.0\n",
            "6    Jordan Mickey  Boston Celtics    55.0  ...  235.0            LSU  1170960.0\n",
            "7     Kelly Olynyk  Boston Celtics    41.0  ...  238.0        Gonzaga  2165160.0\n",
            "..             ...             ...     ...  ...    ...            ...        ...\n",
            "449    Rodney Hood       Utah Jazz     5.0  ...  206.0           Duke  1348440.0\n",
            "451  Chris Johnson       Utah Jazz    23.0  ...  206.0         Dayton   981348.0\n",
            "452     Trey Lyles       Utah Jazz    41.0  ...  234.0       Kentucky  2239800.0\n",
            "453   Shelvin Mack       Utah Jazz     8.0  ...  203.0         Butler  2433333.0\n",
            "456    Jeff Withey       Utah Jazz    24.0  ...  231.0         Kansas   947276.0\n",
            "\n",
            "[364 rows x 9 columns]\n"
          ]
        }
      ]
    },
    {
      "cell_type": "code",
      "metadata": {
        "id": "QqqtbFBDcP7X"
      },
      "source": [
        "nbaWH = nba1"
      ],
      "execution_count": 7,
      "outputs": []
    },
    {
      "cell_type": "code",
      "metadata": {
        "id": "XYdfE5IpndB4"
      },
      "source": [
        "def lbToKgFunc(x):\n",
        "  x = str(x).split('-')\n",
        "  return round(int(x[0]) + int(x[1]) / 12) * 0.3048"
      ],
      "execution_count": 8,
      "outputs": []
    },
    {
      "cell_type": "code",
      "metadata": {
        "colab": {
          "base_uri": "https://localhost:8080/",
          "height": 424
        },
        "id": "Oiu9FmNynh50",
        "outputId": "584f2634-c484-4f42-8e37-a0ed2b2b46a0"
      },
      "source": [
        "nbaWH['Weight'] = nbaWH['Weight'].apply(lambda x: float(str(x)[-5:]))\n",
        "nbaWH['Weight'] = nbaWH['Weight'].apply(lambda x:x * 0.45359237)\n",
        "nbaWH['Height'] = nbaWH['Height'].transform(lbToKgFunc)\n",
        "nbaWH"
      ],
      "execution_count": 9,
      "outputs": [
        {
          "output_type": "execute_result",
          "data": {
            "text/html": [
              "<div>\n",
              "<style scoped>\n",
              "    .dataframe tbody tr th:only-of-type {\n",
              "        vertical-align: middle;\n",
              "    }\n",
              "\n",
              "    .dataframe tbody tr th {\n",
              "        vertical-align: top;\n",
              "    }\n",
              "\n",
              "    .dataframe thead th {\n",
              "        text-align: right;\n",
              "    }\n",
              "</style>\n",
              "<table border=\"1\" class=\"dataframe\">\n",
              "  <thead>\n",
              "    <tr style=\"text-align: right;\">\n",
              "      <th></th>\n",
              "      <th>Name</th>\n",
              "      <th>Team</th>\n",
              "      <th>Number</th>\n",
              "      <th>Position</th>\n",
              "      <th>Age</th>\n",
              "      <th>Height</th>\n",
              "      <th>Weight</th>\n",
              "      <th>College</th>\n",
              "      <th>Salary</th>\n",
              "    </tr>\n",
              "  </thead>\n",
              "  <tbody>\n",
              "    <tr>\n",
              "      <th>0</th>\n",
              "      <td>Avery Bradley</td>\n",
              "      <td>Boston Celtics</td>\n",
              "      <td>0.0</td>\n",
              "      <td>PG</td>\n",
              "      <td>25.0</td>\n",
              "      <td>1.8288</td>\n",
              "      <td>81.646627</td>\n",
              "      <td>Texas</td>\n",
              "      <td>7730337.0</td>\n",
              "    </tr>\n",
              "    <tr>\n",
              "      <th>1</th>\n",
              "      <td>Jae Crowder</td>\n",
              "      <td>Boston Celtics</td>\n",
              "      <td>99.0</td>\n",
              "      <td>SF</td>\n",
              "      <td>25.0</td>\n",
              "      <td>1.8288</td>\n",
              "      <td>106.594207</td>\n",
              "      <td>Marquette</td>\n",
              "      <td>6796117.0</td>\n",
              "    </tr>\n",
              "    <tr>\n",
              "      <th>3</th>\n",
              "      <td>R.J. Hunter</td>\n",
              "      <td>Boston Celtics</td>\n",
              "      <td>28.0</td>\n",
              "      <td>SG</td>\n",
              "      <td>22.0</td>\n",
              "      <td>1.8288</td>\n",
              "      <td>83.914588</td>\n",
              "      <td>Georgia State</td>\n",
              "      <td>1148640.0</td>\n",
              "    </tr>\n",
              "    <tr>\n",
              "      <th>6</th>\n",
              "      <td>Jordan Mickey</td>\n",
              "      <td>Boston Celtics</td>\n",
              "      <td>55.0</td>\n",
              "      <td>PF</td>\n",
              "      <td>21.0</td>\n",
              "      <td>2.1336</td>\n",
              "      <td>106.594207</td>\n",
              "      <td>LSU</td>\n",
              "      <td>1170960.0</td>\n",
              "    </tr>\n",
              "    <tr>\n",
              "      <th>7</th>\n",
              "      <td>Kelly Olynyk</td>\n",
              "      <td>Boston Celtics</td>\n",
              "      <td>41.0</td>\n",
              "      <td>C</td>\n",
              "      <td>25.0</td>\n",
              "      <td>2.1336</td>\n",
              "      <td>107.954984</td>\n",
              "      <td>Gonzaga</td>\n",
              "      <td>2165160.0</td>\n",
              "    </tr>\n",
              "    <tr>\n",
              "      <th>...</th>\n",
              "      <td>...</td>\n",
              "      <td>...</td>\n",
              "      <td>...</td>\n",
              "      <td>...</td>\n",
              "      <td>...</td>\n",
              "      <td>...</td>\n",
              "      <td>...</td>\n",
              "      <td>...</td>\n",
              "      <td>...</td>\n",
              "    </tr>\n",
              "    <tr>\n",
              "      <th>449</th>\n",
              "      <td>Rodney Hood</td>\n",
              "      <td>Utah Jazz</td>\n",
              "      <td>5.0</td>\n",
              "      <td>SG</td>\n",
              "      <td>23.0</td>\n",
              "      <td>2.1336</td>\n",
              "      <td>93.440028</td>\n",
              "      <td>Duke</td>\n",
              "      <td>1348440.0</td>\n",
              "    </tr>\n",
              "    <tr>\n",
              "      <th>451</th>\n",
              "      <td>Chris Johnson</td>\n",
              "      <td>Utah Jazz</td>\n",
              "      <td>23.0</td>\n",
              "      <td>SF</td>\n",
              "      <td>26.0</td>\n",
              "      <td>1.8288</td>\n",
              "      <td>93.440028</td>\n",
              "      <td>Dayton</td>\n",
              "      <td>981348.0</td>\n",
              "    </tr>\n",
              "    <tr>\n",
              "      <th>452</th>\n",
              "      <td>Trey Lyles</td>\n",
              "      <td>Utah Jazz</td>\n",
              "      <td>41.0</td>\n",
              "      <td>PF</td>\n",
              "      <td>20.0</td>\n",
              "      <td>2.1336</td>\n",
              "      <td>106.140615</td>\n",
              "      <td>Kentucky</td>\n",
              "      <td>2239800.0</td>\n",
              "    </tr>\n",
              "    <tr>\n",
              "      <th>453</th>\n",
              "      <td>Shelvin Mack</td>\n",
              "      <td>Utah Jazz</td>\n",
              "      <td>8.0</td>\n",
              "      <td>PG</td>\n",
              "      <td>26.0</td>\n",
              "      <td>1.8288</td>\n",
              "      <td>92.079251</td>\n",
              "      <td>Butler</td>\n",
              "      <td>2433333.0</td>\n",
              "    </tr>\n",
              "    <tr>\n",
              "      <th>456</th>\n",
              "      <td>Jeff Withey</td>\n",
              "      <td>Utah Jazz</td>\n",
              "      <td>24.0</td>\n",
              "      <td>C</td>\n",
              "      <td>26.0</td>\n",
              "      <td>2.1336</td>\n",
              "      <td>104.779837</td>\n",
              "      <td>Kansas</td>\n",
              "      <td>947276.0</td>\n",
              "    </tr>\n",
              "  </tbody>\n",
              "</table>\n",
              "<p>364 rows × 9 columns</p>\n",
              "</div>"
            ],
            "text/plain": [
              "              Name            Team  ...        College     Salary\n",
              "0    Avery Bradley  Boston Celtics  ...          Texas  7730337.0\n",
              "1      Jae Crowder  Boston Celtics  ...      Marquette  6796117.0\n",
              "3      R.J. Hunter  Boston Celtics  ...  Georgia State  1148640.0\n",
              "6    Jordan Mickey  Boston Celtics  ...            LSU  1170960.0\n",
              "7     Kelly Olynyk  Boston Celtics  ...        Gonzaga  2165160.0\n",
              "..             ...             ...  ...            ...        ...\n",
              "449    Rodney Hood       Utah Jazz  ...           Duke  1348440.0\n",
              "451  Chris Johnson       Utah Jazz  ...         Dayton   981348.0\n",
              "452     Trey Lyles       Utah Jazz  ...       Kentucky  2239800.0\n",
              "453   Shelvin Mack       Utah Jazz  ...         Butler  2433333.0\n",
              "456    Jeff Withey       Utah Jazz  ...         Kansas   947276.0\n",
              "\n",
              "[364 rows x 9 columns]"
            ]
          },
          "metadata": {},
          "execution_count": 9
        }
      ]
    },
    {
      "cell_type": "code",
      "metadata": {
        "colab": {
          "base_uri": "https://localhost:8080/",
          "height": 300
        },
        "id": "bzsRylGCJukK",
        "outputId": "93d2bb34-fb8f-44d8-a938-eafea983cea3"
      },
      "source": [
        "emp.describe()"
      ],
      "execution_count": 10,
      "outputs": [
        {
          "output_type": "execute_result",
          "data": {
            "text/html": [
              "<div>\n",
              "<style scoped>\n",
              "    .dataframe tbody tr th:only-of-type {\n",
              "        vertical-align: middle;\n",
              "    }\n",
              "\n",
              "    .dataframe tbody tr th {\n",
              "        vertical-align: top;\n",
              "    }\n",
              "\n",
              "    .dataframe thead th {\n",
              "        text-align: right;\n",
              "    }\n",
              "</style>\n",
              "<table border=\"1\" class=\"dataframe\">\n",
              "  <thead>\n",
              "    <tr style=\"text-align: right;\">\n",
              "      <th></th>\n",
              "      <th>Salary</th>\n",
              "      <th>Bonus %</th>\n",
              "    </tr>\n",
              "  </thead>\n",
              "  <tbody>\n",
              "    <tr>\n",
              "      <th>count</th>\n",
              "      <td>764.000000</td>\n",
              "      <td>764.000000</td>\n",
              "    </tr>\n",
              "    <tr>\n",
              "      <th>mean</th>\n",
              "      <td>90433.196335</td>\n",
              "      <td>10.148041</td>\n",
              "    </tr>\n",
              "    <tr>\n",
              "      <th>std</th>\n",
              "      <td>32864.665282</td>\n",
              "      <td>5.608733</td>\n",
              "    </tr>\n",
              "    <tr>\n",
              "      <th>min</th>\n",
              "      <td>35013.000000</td>\n",
              "      <td>1.015000</td>\n",
              "    </tr>\n",
              "    <tr>\n",
              "      <th>25%</th>\n",
              "      <td>62071.750000</td>\n",
              "      <td>5.193250</td>\n",
              "    </tr>\n",
              "    <tr>\n",
              "      <th>50%</th>\n",
              "      <td>90428.000000</td>\n",
              "      <td>9.658500</td>\n",
              "    </tr>\n",
              "    <tr>\n",
              "      <th>75%</th>\n",
              "      <td>118075.250000</td>\n",
              "      <td>14.965000</td>\n",
              "    </tr>\n",
              "    <tr>\n",
              "      <th>max</th>\n",
              "      <td>149908.000000</td>\n",
              "      <td>19.944000</td>\n",
              "    </tr>\n",
              "  </tbody>\n",
              "</table>\n",
              "</div>"
            ],
            "text/plain": [
              "              Salary     Bonus %\n",
              "count     764.000000  764.000000\n",
              "mean    90433.196335   10.148041\n",
              "std     32864.665282    5.608733\n",
              "min     35013.000000    1.015000\n",
              "25%     62071.750000    5.193250\n",
              "50%     90428.000000    9.658500\n",
              "75%    118075.250000   14.965000\n",
              "max    149908.000000   19.944000"
            ]
          },
          "metadata": {},
          "execution_count": 10
        }
      ]
    },
    {
      "cell_type": "code",
      "metadata": {
        "colab": {
          "base_uri": "https://localhost:8080/",
          "height": 300
        },
        "id": "q6c7GEgPJ74O",
        "outputId": "2cf13c06-5882-464c-e6f0-0309a4b8eb9e"
      },
      "source": [
        "nbaWH.describe()"
      ],
      "execution_count": 11,
      "outputs": [
        {
          "output_type": "execute_result",
          "data": {
            "text/html": [
              "<div>\n",
              "<style scoped>\n",
              "    .dataframe tbody tr th:only-of-type {\n",
              "        vertical-align: middle;\n",
              "    }\n",
              "\n",
              "    .dataframe tbody tr th {\n",
              "        vertical-align: top;\n",
              "    }\n",
              "\n",
              "    .dataframe thead th {\n",
              "        text-align: right;\n",
              "    }\n",
              "</style>\n",
              "<table border=\"1\" class=\"dataframe\">\n",
              "  <thead>\n",
              "    <tr style=\"text-align: right;\">\n",
              "      <th></th>\n",
              "      <th>Number</th>\n",
              "      <th>Age</th>\n",
              "      <th>Height</th>\n",
              "      <th>Weight</th>\n",
              "      <th>Salary</th>\n",
              "    </tr>\n",
              "  </thead>\n",
              "  <tbody>\n",
              "    <tr>\n",
              "      <th>count</th>\n",
              "      <td>364.000000</td>\n",
              "      <td>364.000000</td>\n",
              "      <td>364.000000</td>\n",
              "      <td>364.000000</td>\n",
              "      <td>3.640000e+02</td>\n",
              "    </tr>\n",
              "    <tr>\n",
              "      <th>mean</th>\n",
              "      <td>16.829670</td>\n",
              "      <td>26.615385</td>\n",
              "      <td>2.002134</td>\n",
              "      <td>99.693123</td>\n",
              "      <td>4.620311e+06</td>\n",
              "    </tr>\n",
              "    <tr>\n",
              "      <th>std</th>\n",
              "      <td>14.994162</td>\n",
              "      <td>4.233591</td>\n",
              "      <td>0.151163</td>\n",
              "      <td>11.245961</td>\n",
              "      <td>5.119716e+06</td>\n",
              "    </tr>\n",
              "    <tr>\n",
              "      <th>min</th>\n",
              "      <td>0.000000</td>\n",
              "      <td>19.000000</td>\n",
              "      <td>1.828800</td>\n",
              "      <td>73.028372</td>\n",
              "      <td>5.572200e+04</td>\n",
              "    </tr>\n",
              "    <tr>\n",
              "      <th>25%</th>\n",
              "      <td>5.000000</td>\n",
              "      <td>24.000000</td>\n",
              "      <td>1.828800</td>\n",
              "      <td>90.718474</td>\n",
              "      <td>1.000000e+06</td>\n",
              "    </tr>\n",
              "    <tr>\n",
              "      <th>50%</th>\n",
              "      <td>12.000000</td>\n",
              "      <td>26.000000</td>\n",
              "      <td>2.133600</td>\n",
              "      <td>99.790321</td>\n",
              "      <td>2.515440e+06</td>\n",
              "    </tr>\n",
              "    <tr>\n",
              "      <th>75%</th>\n",
              "      <td>25.000000</td>\n",
              "      <td>29.000000</td>\n",
              "      <td>2.133600</td>\n",
              "      <td>108.862169</td>\n",
              "      <td>6.149694e+06</td>\n",
              "    </tr>\n",
              "    <tr>\n",
              "      <th>max</th>\n",
              "      <td>99.000000</td>\n",
              "      <td>40.000000</td>\n",
              "      <td>2.133600</td>\n",
              "      <td>126.552271</td>\n",
              "      <td>2.287500e+07</td>\n",
              "    </tr>\n",
              "  </tbody>\n",
              "</table>\n",
              "</div>"
            ],
            "text/plain": [
              "           Number         Age      Height      Weight        Salary\n",
              "count  364.000000  364.000000  364.000000  364.000000  3.640000e+02\n",
              "mean    16.829670   26.615385    2.002134   99.693123  4.620311e+06\n",
              "std     14.994162    4.233591    0.151163   11.245961  5.119716e+06\n",
              "min      0.000000   19.000000    1.828800   73.028372  5.572200e+04\n",
              "25%      5.000000   24.000000    1.828800   90.718474  1.000000e+06\n",
              "50%     12.000000   26.000000    2.133600   99.790321  2.515440e+06\n",
              "75%     25.000000   29.000000    2.133600  108.862169  6.149694e+06\n",
              "max     99.000000   40.000000    2.133600  126.552271  2.287500e+07"
            ]
          },
          "metadata": {},
          "execution_count": 11
        }
      ]
    },
    {
      "cell_type": "code",
      "metadata": {
        "colab": {
          "base_uri": "https://localhost:8080/"
        },
        "id": "M_XPuKnQCMXl",
        "outputId": "b44339a7-af3f-4642-80b4-3dbe8535c11d"
      },
      "source": [
        "emp['Salary'].sum()"
      ],
      "execution_count": 12,
      "outputs": [
        {
          "output_type": "execute_result",
          "data": {
            "text/plain": [
              "69090962"
            ]
          },
          "metadata": {},
          "execution_count": 12
        }
      ]
    },
    {
      "cell_type": "code",
      "metadata": {
        "colab": {
          "base_uri": "https://localhost:8080/"
        },
        "id": "nVECOfpfKd_B",
        "outputId": "73f84d1d-fb1d-4f1a-f6cf-db757a829238"
      },
      "source": [
        "nbaWH['Weight'].sum()"
      ],
      "execution_count": 13,
      "outputs": [
        {
          "output_type": "execute_result",
          "data": {
            "text/plain": [
              "36288.29678474"
            ]
          },
          "metadata": {},
          "execution_count": 13
        }
      ]
    },
    {
      "cell_type": "code",
      "metadata": {
        "colab": {
          "base_uri": "https://localhost:8080/",
          "height": 1000
        },
        "id": "-PEMwoeBLBXT",
        "outputId": "e30000b2-665f-4f11-f604-f4a9d41f4646"
      },
      "source": [
        "nbaWH[['Team', 'Age', 'Weight']].groupby(['Team']).mean()"
      ],
      "execution_count": 14,
      "outputs": [
        {
          "output_type": "execute_result",
          "data": {
            "text/html": [
              "<div>\n",
              "<style scoped>\n",
              "    .dataframe tbody tr th:only-of-type {\n",
              "        vertical-align: middle;\n",
              "    }\n",
              "\n",
              "    .dataframe tbody tr th {\n",
              "        vertical-align: top;\n",
              "    }\n",
              "\n",
              "    .dataframe thead th {\n",
              "        text-align: right;\n",
              "    }\n",
              "</style>\n",
              "<table border=\"1\" class=\"dataframe\">\n",
              "  <thead>\n",
              "    <tr style=\"text-align: right;\">\n",
              "      <th></th>\n",
              "      <th>Age</th>\n",
              "      <th>Weight</th>\n",
              "    </tr>\n",
              "    <tr>\n",
              "      <th>Team</th>\n",
              "      <th></th>\n",
              "      <th></th>\n",
              "    </tr>\n",
              "  </thead>\n",
              "  <tbody>\n",
              "    <tr>\n",
              "      <th>Atlanta Hawks</th>\n",
              "      <td>28.545455</td>\n",
              "      <td>99.872793</td>\n",
              "    </tr>\n",
              "    <tr>\n",
              "      <th>Boston Celtics</th>\n",
              "      <td>23.833333</td>\n",
              "      <td>98.883137</td>\n",
              "    </tr>\n",
              "    <tr>\n",
              "      <th>Brooklyn Nets</th>\n",
              "      <td>25.769231</td>\n",
              "      <td>98.045735</td>\n",
              "    </tr>\n",
              "    <tr>\n",
              "      <th>Charlotte Hornets</th>\n",
              "      <td>25.692308</td>\n",
              "      <td>98.289977</td>\n",
              "    </tr>\n",
              "    <tr>\n",
              "      <th>Chicago Bulls</th>\n",
              "      <td>27.333333</td>\n",
              "      <td>95.972586</td>\n",
              "    </tr>\n",
              "    <tr>\n",
              "      <th>Cleveland Cavaliers</th>\n",
              "      <td>28.909091</td>\n",
              "      <td>100.738742</td>\n",
              "    </tr>\n",
              "    <tr>\n",
              "      <th>Dallas Mavericks</th>\n",
              "      <td>29.000000</td>\n",
              "      <td>99.790321</td>\n",
              "    </tr>\n",
              "    <tr>\n",
              "      <th>Denver Nuggets</th>\n",
              "      <td>27.777778</td>\n",
              "      <td>94.649608</td>\n",
              "    </tr>\n",
              "    <tr>\n",
              "      <th>Detroit Pistons</th>\n",
              "      <td>26.200000</td>\n",
              "      <td>100.788225</td>\n",
              "    </tr>\n",
              "    <tr>\n",
              "      <th>Golden State Warriors</th>\n",
              "      <td>26.583333</td>\n",
              "      <td>102.436277</td>\n",
              "    </tr>\n",
              "    <tr>\n",
              "      <th>Houston Rockets</th>\n",
              "      <td>26.909091</td>\n",
              "      <td>97.027532</td>\n",
              "    </tr>\n",
              "    <tr>\n",
              "      <th>Indiana Pacers</th>\n",
              "      <td>25.666667</td>\n",
              "      <td>100.848704</td>\n",
              "    </tr>\n",
              "    <tr>\n",
              "      <th>Los Angeles Clippers</th>\n",
              "      <td>28.785714</td>\n",
              "      <td>100.794705</td>\n",
              "    </tr>\n",
              "    <tr>\n",
              "      <th>Los Angeles Lakers</th>\n",
              "      <td>26.166667</td>\n",
              "      <td>106.556408</td>\n",
              "    </tr>\n",
              "    <tr>\n",
              "      <th>Memphis Grizzlies</th>\n",
              "      <td>28.846154</td>\n",
              "      <td>99.406512</td>\n",
              "    </tr>\n",
              "    <tr>\n",
              "      <th>Miami Heat</th>\n",
              "      <td>28.800000</td>\n",
              "      <td>102.784031</td>\n",
              "    </tr>\n",
              "    <tr>\n",
              "      <th>Milwaukee Bucks</th>\n",
              "      <td>25.071429</td>\n",
              "      <td>100.989101</td>\n",
              "    </tr>\n",
              "    <tr>\n",
              "      <th>Minnesota Timberwolves</th>\n",
              "      <td>24.000000</td>\n",
              "      <td>98.656340</td>\n",
              "    </tr>\n",
              "    <tr>\n",
              "      <th>New Orleans Pelicans</th>\n",
              "      <td>26.437500</td>\n",
              "      <td>97.125466</td>\n",
              "    </tr>\n",
              "    <tr>\n",
              "      <th>New York Knicks</th>\n",
              "      <td>27.000000</td>\n",
              "      <td>101.439748</td>\n",
              "    </tr>\n",
              "    <tr>\n",
              "      <th>Oklahoma City Thunder</th>\n",
              "      <td>27.142857</td>\n",
              "      <td>103.548658</td>\n",
              "    </tr>\n",
              "    <tr>\n",
              "      <th>Orlando Magic</th>\n",
              "      <td>25.200000</td>\n",
              "      <td>97.975952</td>\n",
              "    </tr>\n",
              "    <tr>\n",
              "      <th>Philadelphia 76ers</th>\n",
              "      <td>23.714286</td>\n",
              "      <td>99.725522</td>\n",
              "    </tr>\n",
              "    <tr>\n",
              "      <th>Phoenix Suns</th>\n",
              "      <td>25.000000</td>\n",
              "      <td>97.592143</td>\n",
              "    </tr>\n",
              "    <tr>\n",
              "      <th>Portland Trail Blazers</th>\n",
              "      <td>25.066667</td>\n",
              "      <td>99.155292</td>\n",
              "    </tr>\n",
              "    <tr>\n",
              "      <th>Sacramento Kings</th>\n",
              "      <td>26.538462</td>\n",
              "      <td>100.662614</td>\n",
              "    </tr>\n",
              "    <tr>\n",
              "      <th>San Antonio Spurs</th>\n",
              "      <td>31.000000</td>\n",
              "      <td>100.161442</td>\n",
              "    </tr>\n",
              "    <tr>\n",
              "      <th>Toronto Raptors</th>\n",
              "      <td>26.600000</td>\n",
              "      <td>98.066670</td>\n",
              "    </tr>\n",
              "    <tr>\n",
              "      <th>Utah Jazz</th>\n",
              "      <td>24.600000</td>\n",
              "      <td>99.971758</td>\n",
              "    </tr>\n",
              "    <tr>\n",
              "      <th>Washington Wizards</th>\n",
              "      <td>27.153846</td>\n",
              "      <td>97.522360</td>\n",
              "    </tr>\n",
              "  </tbody>\n",
              "</table>\n",
              "</div>"
            ],
            "text/plain": [
              "                              Age      Weight\n",
              "Team                                         \n",
              "Atlanta Hawks           28.545455   99.872793\n",
              "Boston Celtics          23.833333   98.883137\n",
              "Brooklyn Nets           25.769231   98.045735\n",
              "Charlotte Hornets       25.692308   98.289977\n",
              "Chicago Bulls           27.333333   95.972586\n",
              "Cleveland Cavaliers     28.909091  100.738742\n",
              "Dallas Mavericks        29.000000   99.790321\n",
              "Denver Nuggets          27.777778   94.649608\n",
              "Detroit Pistons         26.200000  100.788225\n",
              "Golden State Warriors   26.583333  102.436277\n",
              "Houston Rockets         26.909091   97.027532\n",
              "Indiana Pacers          25.666667  100.848704\n",
              "Los Angeles Clippers    28.785714  100.794705\n",
              "Los Angeles Lakers      26.166667  106.556408\n",
              "Memphis Grizzlies       28.846154   99.406512\n",
              "Miami Heat              28.800000  102.784031\n",
              "Milwaukee Bucks         25.071429  100.989101\n",
              "Minnesota Timberwolves  24.000000   98.656340\n",
              "New Orleans Pelicans    26.437500   97.125466\n",
              "New York Knicks         27.000000  101.439748\n",
              "Oklahoma City Thunder   27.142857  103.548658\n",
              "Orlando Magic           25.200000   97.975952\n",
              "Philadelphia 76ers      23.714286   99.725522\n",
              "Phoenix Suns            25.000000   97.592143\n",
              "Portland Trail Blazers  25.066667   99.155292\n",
              "Sacramento Kings        26.538462  100.662614\n",
              "San Antonio Spurs       31.000000  100.161442\n",
              "Toronto Raptors         26.600000   98.066670\n",
              "Utah Jazz               24.600000   99.971758\n",
              "Washington Wizards      27.153846   97.522360"
            ]
          },
          "metadata": {},
          "execution_count": 14
        }
      ]
    },
    {
      "cell_type": "code",
      "metadata": {
        "colab": {
          "base_uri": "https://localhost:8080/",
          "height": 424
        },
        "id": "2xapCRNbMrwj",
        "outputId": "1115e2dd-9afc-4b3e-f2c9-a8e6eada2c72"
      },
      "source": [
        "ageAtLeast23 = nbaWH[(nbaWH['Age']) >= 23]\n",
        "ageAtLeast23"
      ],
      "execution_count": 15,
      "outputs": [
        {
          "output_type": "execute_result",
          "data": {
            "text/html": [
              "<div>\n",
              "<style scoped>\n",
              "    .dataframe tbody tr th:only-of-type {\n",
              "        vertical-align: middle;\n",
              "    }\n",
              "\n",
              "    .dataframe tbody tr th {\n",
              "        vertical-align: top;\n",
              "    }\n",
              "\n",
              "    .dataframe thead th {\n",
              "        text-align: right;\n",
              "    }\n",
              "</style>\n",
              "<table border=\"1\" class=\"dataframe\">\n",
              "  <thead>\n",
              "    <tr style=\"text-align: right;\">\n",
              "      <th></th>\n",
              "      <th>Name</th>\n",
              "      <th>Team</th>\n",
              "      <th>Number</th>\n",
              "      <th>Position</th>\n",
              "      <th>Age</th>\n",
              "      <th>Height</th>\n",
              "      <th>Weight</th>\n",
              "      <th>College</th>\n",
              "      <th>Salary</th>\n",
              "    </tr>\n",
              "  </thead>\n",
              "  <tbody>\n",
              "    <tr>\n",
              "      <th>0</th>\n",
              "      <td>Avery Bradley</td>\n",
              "      <td>Boston Celtics</td>\n",
              "      <td>0.0</td>\n",
              "      <td>PG</td>\n",
              "      <td>25.0</td>\n",
              "      <td>1.8288</td>\n",
              "      <td>81.646627</td>\n",
              "      <td>Texas</td>\n",
              "      <td>7730337.0</td>\n",
              "    </tr>\n",
              "    <tr>\n",
              "      <th>1</th>\n",
              "      <td>Jae Crowder</td>\n",
              "      <td>Boston Celtics</td>\n",
              "      <td>99.0</td>\n",
              "      <td>SF</td>\n",
              "      <td>25.0</td>\n",
              "      <td>1.8288</td>\n",
              "      <td>106.594207</td>\n",
              "      <td>Marquette</td>\n",
              "      <td>6796117.0</td>\n",
              "    </tr>\n",
              "    <tr>\n",
              "      <th>7</th>\n",
              "      <td>Kelly Olynyk</td>\n",
              "      <td>Boston Celtics</td>\n",
              "      <td>41.0</td>\n",
              "      <td>C</td>\n",
              "      <td>25.0</td>\n",
              "      <td>2.1336</td>\n",
              "      <td>107.954984</td>\n",
              "      <td>Gonzaga</td>\n",
              "      <td>2165160.0</td>\n",
              "    </tr>\n",
              "    <tr>\n",
              "      <th>10</th>\n",
              "      <td>Jared Sullinger</td>\n",
              "      <td>Boston Celtics</td>\n",
              "      <td>7.0</td>\n",
              "      <td>C</td>\n",
              "      <td>24.0</td>\n",
              "      <td>2.1336</td>\n",
              "      <td>117.934016</td>\n",
              "      <td>Ohio State</td>\n",
              "      <td>2569260.0</td>\n",
              "    </tr>\n",
              "    <tr>\n",
              "      <th>11</th>\n",
              "      <td>Isaiah Thomas</td>\n",
              "      <td>Boston Celtics</td>\n",
              "      <td>4.0</td>\n",
              "      <td>PG</td>\n",
              "      <td>27.0</td>\n",
              "      <td>1.8288</td>\n",
              "      <td>83.914588</td>\n",
              "      <td>Washington</td>\n",
              "      <td>6912869.0</td>\n",
              "    </tr>\n",
              "    <tr>\n",
              "      <th>...</th>\n",
              "      <td>...</td>\n",
              "      <td>...</td>\n",
              "      <td>...</td>\n",
              "      <td>...</td>\n",
              "      <td>...</td>\n",
              "      <td>...</td>\n",
              "      <td>...</td>\n",
              "      <td>...</td>\n",
              "      <td>...</td>\n",
              "    </tr>\n",
              "    <tr>\n",
              "      <th>448</th>\n",
              "      <td>Gordon Hayward</td>\n",
              "      <td>Utah Jazz</td>\n",
              "      <td>20.0</td>\n",
              "      <td>SF</td>\n",
              "      <td>26.0</td>\n",
              "      <td>2.1336</td>\n",
              "      <td>102.511876</td>\n",
              "      <td>Butler</td>\n",
              "      <td>15409570.0</td>\n",
              "    </tr>\n",
              "    <tr>\n",
              "      <th>449</th>\n",
              "      <td>Rodney Hood</td>\n",
              "      <td>Utah Jazz</td>\n",
              "      <td>5.0</td>\n",
              "      <td>SG</td>\n",
              "      <td>23.0</td>\n",
              "      <td>2.1336</td>\n",
              "      <td>93.440028</td>\n",
              "      <td>Duke</td>\n",
              "      <td>1348440.0</td>\n",
              "    </tr>\n",
              "    <tr>\n",
              "      <th>451</th>\n",
              "      <td>Chris Johnson</td>\n",
              "      <td>Utah Jazz</td>\n",
              "      <td>23.0</td>\n",
              "      <td>SF</td>\n",
              "      <td>26.0</td>\n",
              "      <td>1.8288</td>\n",
              "      <td>93.440028</td>\n",
              "      <td>Dayton</td>\n",
              "      <td>981348.0</td>\n",
              "    </tr>\n",
              "    <tr>\n",
              "      <th>453</th>\n",
              "      <td>Shelvin Mack</td>\n",
              "      <td>Utah Jazz</td>\n",
              "      <td>8.0</td>\n",
              "      <td>PG</td>\n",
              "      <td>26.0</td>\n",
              "      <td>1.8288</td>\n",
              "      <td>92.079251</td>\n",
              "      <td>Butler</td>\n",
              "      <td>2433333.0</td>\n",
              "    </tr>\n",
              "    <tr>\n",
              "      <th>456</th>\n",
              "      <td>Jeff Withey</td>\n",
              "      <td>Utah Jazz</td>\n",
              "      <td>24.0</td>\n",
              "      <td>C</td>\n",
              "      <td>26.0</td>\n",
              "      <td>2.1336</td>\n",
              "      <td>104.779837</td>\n",
              "      <td>Kansas</td>\n",
              "      <td>947276.0</td>\n",
              "    </tr>\n",
              "  </tbody>\n",
              "</table>\n",
              "<p>310 rows × 9 columns</p>\n",
              "</div>"
            ],
            "text/plain": [
              "                Name            Team  ...     College      Salary\n",
              "0      Avery Bradley  Boston Celtics  ...       Texas   7730337.0\n",
              "1        Jae Crowder  Boston Celtics  ...   Marquette   6796117.0\n",
              "7       Kelly Olynyk  Boston Celtics  ...     Gonzaga   2165160.0\n",
              "10   Jared Sullinger  Boston Celtics  ...  Ohio State   2569260.0\n",
              "11     Isaiah Thomas  Boston Celtics  ...  Washington   6912869.0\n",
              "..               ...             ...  ...         ...         ...\n",
              "448   Gordon Hayward       Utah Jazz  ...      Butler  15409570.0\n",
              "449      Rodney Hood       Utah Jazz  ...        Duke   1348440.0\n",
              "451    Chris Johnson       Utah Jazz  ...      Dayton    981348.0\n",
              "453     Shelvin Mack       Utah Jazz  ...      Butler   2433333.0\n",
              "456      Jeff Withey       Utah Jazz  ...      Kansas    947276.0\n",
              "\n",
              "[310 rows x 9 columns]"
            ]
          },
          "metadata": {},
          "execution_count": 15
        }
      ]
    },
    {
      "cell_type": "code",
      "metadata": {
        "id": "an-5CTZvNhbc"
      },
      "source": [
        "sns.set_style('whitegrid')\n",
        "matplotlib.rcParams['font.size'] = 12\n",
        "matplotlib.rcParams['figure.figsize'] = (8, 3)\n",
        "matplotlib.rcParams['figure.facecolor'] = '#00000000'\n",
        "matplotlib.rcParams['lines.linestyle'] = '--'"
      ],
      "execution_count": 16,
      "outputs": []
    },
    {
      "cell_type": "code",
      "metadata": {
        "colab": {
          "base_uri": "https://localhost:8080/",
          "height": 262
        },
        "id": "REbVsi5fBTl0",
        "outputId": "95bc27fc-dd18-4338-9d59-2ea5f3d018ad"
      },
      "source": [
        "sns.lineplot(data=nbaWH, x=\"Height\", y=\"Salary\")"
      ],
      "execution_count": 17,
      "outputs": [
        {
          "output_type": "execute_result",
          "data": {
            "text/plain": [
              "<matplotlib.axes._subplots.AxesSubplot at 0x7f5575642250>"
            ]
          },
          "metadata": {},
          "execution_count": 17
        },
        {
          "output_type": "display_data",
          "data": {
            "image/png": "[encoded data removed]",
            "text/plain": [
              "<Figure size 576x216 with 1 Axes>"
            ]
          },
          "metadata": {
            "needs_background": "light"
          }
        }
      ]
    },
    {
      "cell_type": "code",
      "metadata": {
        "colab": {
          "base_uri": "https://localhost:8080/",
          "height": 236
        },
        "id": "bbdJWBHgEmeX",
        "outputId": "7497ac4c-885d-4970-87cc-e7bbe73b7a92"
      },
      "source": [
        "var = 'Weight'\n",
        "data = pd.concat([nbaWH['Height'], nbaWH[var]], axis=1)\n",
        "data.plot.scatter(x=var, y='Height', ylim=(0,3));"
      ],
      "execution_count": 18,
      "outputs": [
        {
          "output_type": "display_data",
          "data": {
            "image/png": "[encoded data removed]",
            "text/plain": [
              "<Figure size 576x216 with 1 Axes>"
            ]
          },
          "metadata": {
            "needs_background": "light"
          }
        }
      ]
    },
    {
      "cell_type": "code",
      "metadata": {
        "colab": {
          "base_uri": "https://localhost:8080/",
          "height": 574
        },
        "id": "jk8xlJdSFgVa",
        "outputId": "7b841172-3956-4999-b039-58b1b179a5c4"
      },
      "source": [
        "var = 'Team'\n",
        "data = pd.concat([emp['Salary'], emp[var]], axis=1)\n",
        "f, ax = plt.subplots(figsize=(24, 10))\n",
        "fig = sns.boxplot(x=var, y=\"Salary\", data=data)\n",
        "fig.axis(ymin=0, ymax=200000);"
      ],
      "execution_count": 19,
      "outputs": [
        {
          "output_type": "display_data",
          "data": {
            "image/png": "[encoded data removed]",
            "text/plain": [
              "<Figure size 1728x720 with 1 Axes>"
            ]
          },
          "metadata": {
            "needs_background": "light"
          }
        }
      ]
    },
    {
      "cell_type": "code",
      "metadata": {
        "colab": {
          "base_uri": "https://localhost:8080/",
          "height": 557
        },
        "id": "AHaAO1U6NzAh",
        "outputId": "7c78cca6-fde9-49f5-81f4-33fb92787fe5"
      },
      "source": [
        "graph = nbaWH[['Age', 'Height']].groupby(['Height']).mean()\n",
        "plt.figure(figsize=(65, 5), dpi=100)\n",
        "j = 1\n",
        "for i in graph:\n",
        "    plt.subplot(1,9.5,j)\n",
        "    sns.distplot(nbaWH[i])\n",
        "    j += 1\n",
        "plt.tight_layout()\n",
        "plt.show()"
      ],
      "execution_count": 20,
      "outputs": [
        {
          "output_type": "stream",
          "name": "stderr",
          "text": [
            "/usr/local/lib/python3.7/dist-packages/seaborn/distributions.py:2619: FutureWarning: `distplot` is a deprecated function and will be removed in a future version. Please adapt your code to use either `displot` (a figure-level function with similar flexibility) or `histplot` (an axes-level function for histograms).\n",
            "  warnings.warn(msg, FutureWarning)\n"
          ]
        },
        {
          "output_type": "display_data",
          "data": {
            "image/png": "[encoded data removed]",
            "text/plain": [
              "<Figure size 6500x500 with 1 Axes>"
            ]
          },
          "metadata": {
            "needs_background": "light"
          }
        }
      ]
    },
    {
      "cell_type": "code",
      "metadata": {
        "id": "DmoM54EzSKXd"
      },
      "source": [
        "emp.to_csv('employeesCSV.csv')\n",
        "emp.to_excel('employeesXLS.xls')"
      ],
      "execution_count": 21,
      "outputs": []
    },
    {
      "cell_type": "code",
      "metadata": {
        "id": "Z4GpWu6BSV4J"
      },
      "source": [
        "nbaWH.to_csv('nbaCSV.csv')\n",
        "nbaWH.to_excel('nbaXLS.xls')"
      ],
      "execution_count": 22,
      "outputs": []
    },
    {
      "cell_type": "code",
      "metadata": {
        "id": "ydjMeTm8GqDZ"
      },
      "source": [
        "innerJoin = pd.concat([emp, nbaWH], axis=1, join=\"inner\")\n",
        "leftJoin = pd.merge(emp, nbaWH, how=\"left\", on=[\"Team\", \"Team\"])\n",
        "rightJoin = pd.merge(emp, nbaWH, how=\"right\", on=[\"Team\", \"Team\"])"
      ],
      "execution_count": 23,
      "outputs": []
    },
    {
      "cell_type": "code",
      "metadata": {
        "colab": {
          "base_uri": "https://localhost:8080/"
        },
        "id": "Wc5ccQmXG6S4",
        "outputId": "a41be2e3-a28d-4d24-aa81-348188fd61a3"
      },
      "source": [
        "print(innerJoin)"
      ],
      "execution_count": 24,
      "outputs": [
        {
          "output_type": "stream",
          "name": "stdout",
          "text": [
            "    First Name  Gender  Start Date  ...      Weight         College      Salary\n",
            "0      Douglas    Male    8/6/1993  ...   81.646627           Texas   7730337.0\n",
            "3        Jerry    Male    3/4/2005  ...   83.914588   Georgia State   1148640.0\n",
            "6         Ruby  Female   8/17/1987  ...  106.594207             LSU   1170960.0\n",
            "8       Angela  Female  11/22/2005  ...   86.182550      Louisville   1824360.0\n",
            "9      Frances  Female    8/8/2002  ...   99.790321  Oklahoma State   3431040.0\n",
            "..         ...     ...         ...  ...         ...             ...         ...\n",
            "446     Cheryl  Female   8/16/1994  ...  120.201978    Georgia Tech  12000000.0\n",
            "448      Wayne    Male   1/30/1992  ...  102.511876          Butler  15409570.0\n",
            "449    Beverly  Female  11/30/2005  ...   93.440028            Duke   1348440.0\n",
            "452      Scott    Male  11/17/2012  ...  106.140615        Kentucky   2239800.0\n",
            "453      Annie  Female  12/19/1994  ...   92.079251          Butler   2433333.0\n",
            "\n",
            "[277 rows x 17 columns]\n"
          ]
        }
      ]
    },
    {
      "cell_type": "code",
      "metadata": {
        "colab": {
          "base_uri": "https://localhost:8080/"
        },
        "id": "pzl4TzbZScoR",
        "outputId": "382de5b3-0190-4cc3-e0d5-c6a78394a293"
      },
      "source": [
        "print(leftJoin)"
      ],
      "execution_count": 25,
      "outputs": [
        {
          "output_type": "stream",
          "name": "stdout",
          "text": [
            "    First Name  Gender Start Date  ... Weight  College  Salary_y\n",
            "0      Douglas    Male   8/6/1993  ...    NaN      NaN       NaN\n",
            "1        Maria  Female  4/23/1993  ...    NaN      NaN       NaN\n",
            "2        Jerry    Male   3/4/2005  ...    NaN      NaN       NaN\n",
            "3        Larry    Male  1/24/1998  ...    NaN      NaN       NaN\n",
            "4       Dennis    Male  4/18/1987  ...    NaN      NaN       NaN\n",
            "..         ...     ...        ...  ...    ...      ...       ...\n",
            "759     George    Male  6/21/2013  ...    NaN      NaN       NaN\n",
            "760    Phillip    Male  1/31/1984  ...    NaN      NaN       NaN\n",
            "761    Russell    Male  5/20/2013  ...    NaN      NaN       NaN\n",
            "762      Larry    Male  4/20/2013  ...    NaN      NaN       NaN\n",
            "763     Albert    Male  5/15/2012  ...    NaN      NaN       NaN\n",
            "\n",
            "[764 rows x 16 columns]\n"
          ]
        }
      ]
    },
    {
      "cell_type": "code",
      "metadata": {
        "colab": {
          "base_uri": "https://localhost:8080/"
        },
        "id": "iGX93L20SnzC",
        "outputId": "ebcb8859-f801-4b3b-c4ad-646c02b11bba"
      },
      "source": [
        "print(rightJoin)"
      ],
      "execution_count": 26,
      "outputs": [
        {
          "output_type": "stream",
          "name": "stdout",
          "text": [
            "    First Name Gender Start Date  ...      Weight        College   Salary_y\n",
            "0          NaN    NaN        NaN  ...   81.646627          Texas  7730337.0\n",
            "1          NaN    NaN        NaN  ...  106.594207      Marquette  6796117.0\n",
            "2          NaN    NaN        NaN  ...   83.914588  Georgia State  1148640.0\n",
            "3          NaN    NaN        NaN  ...  106.594207            LSU  1170960.0\n",
            "4          NaN    NaN        NaN  ...  107.954984        Gonzaga  2165160.0\n",
            "..         ...    ...        ...  ...         ...            ...        ...\n",
            "359        NaN    NaN        NaN  ...   93.440028           Duke  1348440.0\n",
            "360        NaN    NaN        NaN  ...   93.440028         Dayton   981348.0\n",
            "361        NaN    NaN        NaN  ...  106.140615       Kentucky  2239800.0\n",
            "362        NaN    NaN        NaN  ...   92.079251         Butler  2433333.0\n",
            "363        NaN    NaN        NaN  ...  104.779837         Kansas   947276.0\n",
            "\n",
            "[364 rows x 16 columns]\n"
          ]
        }
      ]
    }
  ]
}